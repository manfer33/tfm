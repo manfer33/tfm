{
 "cells": [
  {
   "cell_type": "code",
   "execution_count": 5,
   "source": [
    "import os\n",
    "import torch\n",
    "import gym\n",
    "import matplotlib.pyplot as plt\n",
    "from tqdm import tqdm\n",
    "from torch import nn as nn\n",
    "from torch.optim import AdamW\n",
    "\n",
    "from utils import test_policy_network, seed_everything, plot_stats, plot_action_probs\n",
    "from parallel_env import ParallelEnv, ParallelWrapper"
   ],
   "outputs": [],
   "metadata": {}
  },
  {
   "cell_type": "code",
   "execution_count": 6,
   "source": [
    "env = gym.make('CartPole-v0')"
   ],
   "outputs": [],
   "metadata": {}
  },
  {
   "cell_type": "code",
   "execution_count": 7,
   "source": [
    "dims = env.observation_space.shape[0]\n",
    "actions = env.action_space.n\n",
    "print(f'state dim: {dims} / actions: {actions}')\n",
    "print(f'sample state {env.reset()}')\n"
   ],
   "outputs": [
    {
     "output_type": "stream",
     "name": "stdout",
     "text": [
      "state dim: 4 / actions: 2\n",
      "sample state [-0.01332758 -0.03242698  0.04646961  0.04303004]\n"
     ]
    }
   ],
   "metadata": {}
  },
  {
   "cell_type": "code",
   "execution_count": 8,
   "source": [
    "plt.imshow(env.render(mode='rgb_array'))"
   ],
   "outputs": [
    {
     "output_type": "execute_result",
     "data": {
      "text/plain": [
       "<matplotlib.image.AxesImage at 0x7f3a344ebac0>"
      ]
     },
     "metadata": {},
     "execution_count": 8
    },
    {
     "output_type": "display_data",
     "data": {
      "text/plain": [
       "<Figure size 432x288 with 1 Axes>"
      ],
      "image/png": "[encoded data removed]"
     },
     "metadata": {
      "needs_background": "light"
     }
    }
   ],
   "metadata": {}
  },
  {
   "cell_type": "code",
   "execution_count": 9,
   "source": [
    "num_envs = os.cpu_count()"
   ],
   "outputs": [],
   "metadata": {}
  },
  {
   "cell_type": "code",
   "execution_count": 10,
   "source": [
    "def create_env(env_name, seed):\n",
    "    env = gym.make(env_name)\n",
    "    seed_everything(env, seed=seed)\n",
    "    return env"
   ],
   "outputs": [],
   "metadata": {}
  },
  {
   "cell_type": "code",
   "execution_count": 11,
   "source": [
    "env_fns = [lambda: create_env('CartPole-v0', rank) for rank in range(num_envs)]\n",
    "\n",
    "# [fn,fn,fn]\n",
    "parallel_env = ParallelEnv(env_fns)"
   ],
   "outputs": [],
   "metadata": {}
  },
  {
   "cell_type": "code",
   "execution_count": 12,
   "source": [
    "parallel_env.reset()"
   ],
   "outputs": [
    {
     "output_type": "execute_result",
     "data": {
      "text/plain": [
       "array([[-0.0224773 ,  0.04186813, -0.01038048,  0.03759079],\n",
       "       [-0.0224773 ,  0.04186813, -0.01038048,  0.03759079],\n",
       "       [-0.0224773 ,  0.04186813, -0.01038048,  0.03759079],\n",
       "       [-0.0224773 ,  0.04186813, -0.01038048,  0.03759079],\n",
       "       [-0.0224773 ,  0.04186813, -0.01038048,  0.03759079],\n",
       "       [-0.0224773 ,  0.04186813, -0.01038048,  0.03759079],\n",
       "       [-0.0224773 ,  0.04186813, -0.01038048,  0.03759079],\n",
       "       [-0.0224773 ,  0.04186813, -0.01038048,  0.03759079]],\n",
       "      dtype=float32)"
      ]
     },
     "metadata": {},
     "execution_count": 12
    }
   ],
   "metadata": {}
  },
  {
   "cell_type": "code",
   "execution_count": 13,
   "source": [
    "class PreprocessEnv(ParallelWrapper):\n",
    "    \n",
    "    def __init__(self, parallel_env):\n",
    "        ParallelWrapper.__init__(self, parallel_env)\n",
    "        \n",
    "    #reset\n",
    "    def reset(self):\n",
    "        state = self.venv.reset()\n",
    "        return torch.from_numpy(state).float()\n",
    "    \n",
    "    #step_async\n",
    "    def step_async(self, actions):\n",
    "        # convierte vector columna a vector fila\n",
    "        actions = actions.squeeze().numpy()\n",
    "        self.venv.step_async(actions)\n",
    "    \n",
    "    #step_wait\n",
    "    def step_wait(self):\n",
    "        next_state, reward, done, info = self.venv.step_wait()\n",
    "        next_state = torch.from_numpy(next_state).float()\n",
    "        reward = torch.tensor(reward).unsqueeze(1).float()\n",
    "        done = torch.tensor(done).unsqueeze(1)\n",
    "        return next_state, reward, done, info"
   ],
   "outputs": [],
   "metadata": {}
  },
  {
   "cell_type": "code",
   "execution_count": 14,
   "source": [
    "parallel_env = PreprocessEnv(parallel_env)"
   ],
   "outputs": [],
   "metadata": {}
  },
  {
   "cell_type": "code",
   "execution_count": 15,
   "source": [
    "state = parallel_env.reset()\n",
    "_, reward, done, _ = parallel_env.step(torch.zeros(num_envs, 1, dtype=torch.int32))\n",
    "print(f'State: {state}, Reward: {reward}, Done: {done}')"
   ],
   "outputs": [
    {
     "output_type": "stream",
     "name": "stdout",
     "text": [
      "State: tensor([[-0.0008,  0.0129,  0.0031, -0.0229],\n",
      "        [-0.0008,  0.0129,  0.0031, -0.0229],\n",
      "        [-0.0008,  0.0129,  0.0031, -0.0229],\n",
      "        [-0.0008,  0.0129,  0.0031, -0.0229],\n",
      "        [-0.0008,  0.0129,  0.0031, -0.0229],\n",
      "        [-0.0008,  0.0129,  0.0031, -0.0229],\n",
      "        [-0.0008,  0.0129,  0.0031, -0.0229],\n",
      "        [-0.0008,  0.0129,  0.0031, -0.0229]]), Reward: tensor([[1.],\n",
      "        [1.],\n",
      "        [1.],\n",
      "        [1.],\n",
      "        [1.],\n",
      "        [1.],\n",
      "        [1.],\n",
      "        [1.]]), Done: tensor([[False],\n",
      "        [False],\n",
      "        [False],\n",
      "        [False],\n",
      "        [False],\n",
      "        [False],\n",
      "        [False],\n",
      "        [False]])\n"
     ]
    }
   ],
   "metadata": {}
  },
  {
   "cell_type": "code",
   "execution_count": 16,
   "source": [
    "policy = nn.Sequential(\n",
    "    nn.Linear(dims, 128),\n",
    "    nn.ReLU(),\n",
    "    nn.Linear(128, 64),\n",
    "    nn.ReLU(),\n",
    "    nn.Linear(64, actions),\n",
    "    nn.Softmax(dim=-1)\n",
    ")"
   ],
   "outputs": [],
   "metadata": {}
  },
  {
   "cell_type": "code",
   "execution_count": 17,
   "source": [
    "neutral_state = torch.zeros(4)\n",
    "left_danger = torch.tensor([-2.3, 0., 0., 0.])\n",
    "right_danger = torch.tensor([2.3, 0., 0., 0.])"
   ],
   "outputs": [],
   "metadata": {}
  },
  {
   "cell_type": "code",
   "execution_count": 18,
   "source": [
    "probs = policy(neutral_state).detach().numpy()\n",
    "plot_action_probs(probs=probs, labels=['Move Left', 'Move Right'])"
   ],
   "outputs": [
    {
     "output_type": "display_data",
     "data": {
      "text/plain": [
       "<Figure size 432x288 with 1 Axes>"
      ],
      "image/png": "[encoded data removed]"
     },
     "metadata": {
      "needs_background": "light"
     }
    }
   ],
   "metadata": {}
  },
  {
   "cell_type": "code",
   "execution_count": 19,
   "source": [
    "probs = policy(left_danger).detach().numpy()\n",
    "plot_action_probs(probs=probs, labels=['Move Left', 'Move Right'])"
   ],
   "outputs": [
    {
     "output_type": "display_data",
     "data": {
      "text/plain": [
       "<Figure size 432x288 with 1 Axes>"
      ],
      "image/png": "[encoded data removed]"
     },
     "metadata": {
      "needs_background": "light"
     }
    }
   ],
   "metadata": {}
  },
  {
   "cell_type": "code",
   "execution_count": 20,
   "source": [
    "probs = policy(right_danger).detach().numpy()\n",
    "plot_action_probs(probs=probs, labels=['Left', 'Right'])"
   ],
   "outputs": [
    {
     "output_type": "display_data",
     "data": {
      "text/plain": [
       "<Figure size 432x288 with 1 Axes>"
      ],
      "image/png": "[encoded data removed]"
     },
     "metadata": {
      "needs_background": "light"
     }
    }
   ],
   "metadata": {}
  },
  {
   "cell_type": "code",
   "execution_count": 21,
   "source": [
    "def reinforce(policy, episodes, alpha=1e-4, gamma=0.99):\n",
    "    \n",
    "    optim = AdamW(policy.parameters(), alpha)\n",
    "    stats = {'Loss': [], 'Returns': []}\n",
    "    \n",
    "    for episode in tqdm(range(1, episodes+1)):\n",
    "        \n",
    "        state = parallel_env.reset()\n",
    "        done_b = torch.zeros((num_envs, 1), dtype=torch.bool)\n",
    "        transitions = []\n",
    "        ep_return = torch.zeros((num_envs, 1))\n",
    "        \n",
    "        while not done_b.all():\n",
    "            action = policy(state).multinomial(1).detach()\n",
    "            next_state, reward, done, _ = parallel_env.step(action)\n",
    "            transitions.append([state, action, ~done_b *reward])\n",
    "            ep_return += reward\n",
    "            done_b |= done\n",
    "            state = next_state\n",
    "            \n",
    "        G = torch.zeros((num_envs, 1))\n",
    "    \n",
    "        for t, (state_t, action_t, reward_t) in reversed(list(enumerate(transitions))):\n",
    "            G = reward_t + gamma*G\n",
    "            probs_t = policy(state_t)\n",
    "            log_probs_t = torch.log(probs_t + 1e-6)\n",
    "            action_log_prob_t = log_probs_t.gather(1, action_t)\n",
    "            \n",
    "            entropy_t = -torch.sum(probs_t * log_probs_t, dim=-1, keepdim=True)\n",
    "            gamma_t = gamma**t\n",
    "            \n",
    "            pg_loss_t = -gamma_t * action_log_prob_t * G\n",
    "            total_loss_t = (pg_loss_t - 0.01*entropy_t).mean()\n",
    "            \n",
    "            policy.zero_grad()\n",
    "            total_loss_t.backward()\n",
    "            optim.step()\n",
    "            \n",
    "        stats['Loss'].append(total_loss_t.item())\n",
    "        stats['Returns'].append(ep_return.mean().item())\n",
    "        \n",
    "    return stats"
   ],
   "outputs": [],
   "metadata": {}
  },
  {
   "cell_type": "code",
   "execution_count": 22,
   "source": [
    "parallel_env.reset()\n",
    "stats = reinforce(policy, 200)"
   ],
   "outputs": [
    {
     "output_type": "stream",
     "name": "stderr",
     "text": [
      "100%|██████████| 200/200 [01:03<00:00,  3.17it/s]\n"
     ]
    }
   ],
   "metadata": {
    "scrolled": true
   }
  },
  {
   "cell_type": "code",
   "execution_count": 23,
   "source": [
    "plot_stats(stats)"
   ],
   "outputs": [
    {
     "output_type": "display_data",
     "data": {
      "text/plain": [
       "<Figure size 864x432 with 2 Axes>"
      ],
      "image/png": "[encoded data removed]"
     },
     "metadata": {
      "needs_background": "light"
     }
    }
   ],
   "metadata": {}
  },
  {
   "cell_type": "raw",
   "source": [
    "probs = policy(neutral_state).detach().numpy()\n",
    "plot_action_probs(probs=probs, labels=['Move Left', 'Move Right'])"
   ],
   "metadata": {}
  },
  {
   "cell_type": "code",
   "execution_count": 25,
   "source": [
    "probs = policy(left_danger).detach().numpy()\n",
    "plot_action_probs(probs=probs, labels=['Move Left', 'Move Right'])"
   ],
   "outputs": [
    {
     "output_type": "display_data",
     "data": {
      "text/plain": [
       "<Figure size 432x288 with 1 Axes>"
      ],
      "image/png": "[encoded data removed]"
     },
     "metadata": {
      "needs_background": "light"
     }
    }
   ],
   "metadata": {}
  },
  {
   "cell_type": "code",
   "execution_count": 26,
   "source": [
    "probs = policy(right_danger).detach().numpy()\n",
    "plot_action_probs(probs=probs, labels=['Left', 'Right'])"
   ],
   "outputs": [
    {
     "output_type": "display_data",
     "data": {
      "text/plain": [
       "<Figure size 432x288 with 1 Axes>"
      ],
      "image/png": "[encoded data removed]"
     },
     "metadata": {
      "needs_background": "light"
     }
    }
   ],
   "metadata": {}
  },
  {
   "cell_type": "code",
   "execution_count": 27,
   "source": [
    "test_policy_network(env, policy, episodes=5)"
   ],
   "outputs": [
    {
     "output_type": "display_data",
     "data": {
      "text/plain": [
       "<Figure size 432x432 with 1 Axes>"
      ],
      "image/png": "[encoded data removed]"
     },
     "metadata": {
      "needs_background": "light"
     }
    }
   ],
   "metadata": {}
  }
 ],
 "metadata": {
  "kernelspec": {
   "display_name": "Python 3",
   "language": "python",
   "name": "python3"
  },
  "language_info": {
   "codemirror_mode": {
    "name": "ipython",
    "version": 3
   },
   "file_extension": ".py",
   "mimetype": "text/x-python",
   "name": "python",
   "nbconvert_exporter": "python",
   "pygments_lexer": "ipython3",
   "version": "3.8.0"
  }
 },
 "nbformat": 4,
 "nbformat_minor": 1
}